{
 "cells": [
  {
   "cell_type": "markdown",
   "metadata": {},
   "source": [
    "### StackOverflow\n",
    "\n",
    "You might have noticed that whenever you try to search the internet for a question about your code, `StackOverflow` shows up high in the search results. Every month, over 120 million people visit the site. It is the most important Q&A forum for coding. When you have an account, you can ask your own question. You will probably have an answer within a couple hours, if not minutes.\n",
    "\n",
    "Exercise: \n",
    "- Sign up for an account at https://stackoverflow.com/users/signup"
   ]
  },
  {
   "cell_type": "markdown",
   "metadata": {},
   "source": [
    "### GitHub\n",
    "\n",
    "`GitHub` is a platform for developers. You can host (and showcase) your code, manage projects, and build software together with other developers. It is *the* place for open source software. With an account, you can upload your code and show your work to others. You can also \"star\" your favourite projects, so you can receive updates about them.\n",
    "\n",
    "\n",
    "Exercise: \n",
    "- Sign up for an account at https://github.com"
   ]
  },
  {
   "cell_type": "markdown",
   "metadata": {},
   "source": [
    "### Exercises on the web\n",
    "\n",
    "The following websites have lots of great exercises which will help you level up. You can monitor your progress and participate in challenges. An excellent and fun way of improving your skills!\n",
    "\n",
    "- [PracticePython](https://www.practicepython.org)\n",
    "- [HackerRank](https://www.hackerrank.com/)\n",
    "- [LeetCode](https://leetcode.com)\n",
    "- [Codingame](https://www.codingame.com/)\n",
    "- [Exercism](https://exercism.io)\n",
    "\n"
   ]
  },
  {
   "cell_type": "markdown",
   "metadata": {},
   "source": [
    "### Try Except\n",
    "\n",
    "With `try / except` you can handle errors. This is especially useful when dealing with external or user data. \n",
    "```python\n",
    "# Example\n",
    "try:\n",
    "    x = int(input(\"Please enter a number: \"))\n",
    "    print(\"You entered:\", x)\n",
    "except ValueError:\n",
    "    print(\"Oops!  That was no valid number.  Try again...\")\n",
    "```\n",
    "\n",
    "Exercise:\n",
    "1. Follow the example to fix the bug in the code below. If the user gives `0` as input, the program crashes. It should print a warning like `\"Entered a zero. Try again\"`. *Hint*: note that this is not a `ValueError`, but another one.\n",
    "\n",
    "```python\n",
    "x = int(input(\"Please enter a (non-zero) number: \"))\n",
    "print(\"The outcome is\" , 100 / x)\n",
    "```\n",
    "\n",
    "*Extra challenge*: currently you need to run the cell every time if you want to test various user inputs. Create a loop that keeps running until you have the input you need and then stops (breaks)."
   ]
  },
  {
   "cell_type": "code",
   "execution_count": null,
   "metadata": {},
   "outputs": [],
   "source": [
    "# Exercise 1\n",
    "x = int(input(\"Please enter a (non-zero) number: \"))\n",
    "print(\"The outcome is\" , 100 / x)"
   ]
  },
  {
   "cell_type": "code",
   "execution_count": null,
   "metadata": {},
   "outputs": [],
   "source": [
    "# Extra challenge\n"
   ]
  },
  {
   "cell_type": "markdown",
   "metadata": {},
   "source": [
    "### Datetime\n",
    "\n",
    "Working with dates and times can be tricky sometimes. Calculations and timezones are not always obvious for a computer. In this exercise you will work with Python's `datetime` object, which has some convenient capabilities.\n",
    "\n",
    "```python\n",
    "from datetime import datetime\n",
    "now = datetime.now()\n",
    "year_start = datetime(2020,1,1)\n",
    "print(\"Time elapsed since the start of the year:\", now - year_start)\n",
    "```\n",
    "\n",
    "Exercises:\n",
    "1. Start with the import: `from datetime import datetime`\n",
    "1. Create a variable `birthday` with your birthday as a datetime object. Print `birthday` for inspection.\n",
    "2. Calcuate and print the time elapsed since your birthday\n",
    "\n",
    "*Extra [difficult] challenge*:\n",
    "calculate your age in years"
   ]
  },
  {
   "cell_type": "code",
   "execution_count": null,
   "metadata": {},
   "outputs": [],
   "source": [
    "# Exercise 1\n"
   ]
  },
  {
   "cell_type": "code",
   "execution_count": null,
   "metadata": {},
   "outputs": [],
   "source": [
    "# Exercise 2\n"
   ]
  },
  {
   "cell_type": "code",
   "execution_count": null,
   "metadata": {},
   "outputs": [],
   "source": [
    "# Exercise 3\n"
   ]
  },
  {
   "cell_type": "code",
   "execution_count": null,
   "metadata": {},
   "outputs": [],
   "source": [
    "# Extra challenge\n"
   ]
  },
  {
   "cell_type": "markdown",
   "metadata": {},
   "source": [
    "### Open files\n",
    "\n",
    "```python\n",
    "# Example writing\n",
    "with open(\"zenofpython1.txt\", \"w\") as f:\n",
    "    f.write(\"Beautiful is better than ugly.\")\n",
    "\n",
    "# Example reading\n",
    "with open(\"zenofpython1.txt\", \"r\") as f:\n",
    "    text = f.read()\n",
    "print(text)\n",
    "```\n",
    "\n",
    "Exercise:\n",
    "1. Create a program that creates a new text file called `zenofpython3.txt` and containing the following sentence: `\"Simple is better than complex.\"`\n",
    "2. Inspect the file is in the same folder as your Jupyter Notebook\n",
    "3. Read the file again and print it's contents to the screen\n",
    "\n",
    "*Extra challenge*: besides the options `\"r\"` and `\"w\"`, the `open()` function has other modes for opening files. Check out the [documentation](https://docs.python.org/3/library/functions.html#open) and try them out."
   ]
  },
  {
   "cell_type": "code",
   "execution_count": null,
   "metadata": {},
   "outputs": [],
   "source": [
    "# Exercise 1\n"
   ]
  },
  {
   "cell_type": "code",
   "execution_count": null,
   "metadata": {},
   "outputs": [],
   "source": [
    "# Exercise 2\n"
   ]
  },
  {
   "cell_type": "code",
   "execution_count": null,
   "metadata": {},
   "outputs": [],
   "source": [
    "# Exercise 3\n"
   ]
  },
  {
   "cell_type": "markdown",
   "metadata": {},
   "source": [
    "### List Comprehension\n",
    "\n",
    "```python\n",
    "# Example\n",
    "ingredients = [\"SPAM\", \"BaCon\", \"haM\", \"EggS\"]\n",
    "\n",
    "ingredients_lowercase = []\n",
    "\n",
    "for i in ingredients:\n",
    "    ingredients_lowercase.append(i.lower())\n",
    "```\n",
    "\n",
    "Exercise:\n",
    "1. Assign the variable `names = [\"stark\", \"nelson\", \"foster\", \"rogers\", \"wilson\", \"hardy\", \"brewer\", \"ray\", \"rich\"]`\n",
    "2. Use a for loop to create a new list `names_capitalized` that contain all the names starting with a capital (\"Stark\", \"Nelson\", \"Foster\", etc) and print the new list to the screen\n",
    "3. Create again the new list `names_capitalized`, but now using [list comprehension](https://docs.python.org/3/tutorial/datastructures.html#list-comprehensions). Print the result to the screen.\n",
    "\n",
    "*Extra challenge*: use `list comprehension` to create a list of all the even numbers between 0 and 100. Hint: search the internet on how to use the `modulo` operator."
   ]
  },
  {
   "cell_type": "code",
   "execution_count": null,
   "metadata": {},
   "outputs": [],
   "source": [
    "# Exercise 1\n"
   ]
  },
  {
   "cell_type": "code",
   "execution_count": null,
   "metadata": {},
   "outputs": [],
   "source": [
    "# Exercise 2\n"
   ]
  },
  {
   "cell_type": "code",
   "execution_count": null,
   "metadata": {},
   "outputs": [],
   "source": [
    "# Exercise 3\n"
   ]
  },
  {
   "cell_type": "code",
   "execution_count": null,
   "metadata": {},
   "outputs": [],
   "source": [
    "# Extra challenge\n"
   ]
  },
  {
   "cell_type": "markdown",
   "metadata": {},
   "source": [
    "### Pandas: Tabular data\n",
    "\n",
    "\n",
    "```python\n",
    "# Example\n",
    "import pandas as pd\n",
    "df = pd.read_csv(\"https://raw.githubusercontent.com/pythonsherpa/data/master/payments.csv\")\n",
    "df.head()\n",
    "```\n",
    "\n",
    "Exercise:\n",
    "1. Run the code (from the example) to create a variable `df` with payments data.\n",
    "2. Inspect the first rows with `df.head()`\n",
    "3. Use the `.info()` method to get more information about the dataset\n",
    "4. Use the `.describe()` method to get descriptive statistics\n",
    "5. Run the cell to print a bar chart of the total invoiced amounts per payment provider\n",
    "\n",
    "Documentation: [read_csv](https://pandas.pydata.org/docs/reference/api/pandas.read_csv.html)\n",
    "\n",
    "*Extra challenge*: follow the \"10 minutes to pandas\" tutorial on: https://pandas.pydata.org/pandas-docs/stable/user_guide/10min.html\n",
    "\n",
    "*Extra challenge 2*: use `pandas` [read_excel](https://pandas.pydata.org/docs/reference/api/pandas.read_excel.html) to read an Excel file on your computer. The code is given, you only need to change the path to a file on your computer. Use methods like `.head()`, `.info()` and `.describe()` to inspect the data. Try out some of the techniques described in the \"10 minutes to pandas\" tutorial."
   ]
  },
  {
   "cell_type": "code",
   "execution_count": null,
   "metadata": {},
   "outputs": [],
   "source": [
    "# Exercise 1\n",
    "import pandas as pd\n",
    "df = pd.read_csv(\"https://raw.githubusercontent.com/pythonsherpa/data/master/payments.csv\")"
   ]
  },
  {
   "cell_type": "code",
   "execution_count": null,
   "metadata": {},
   "outputs": [],
   "source": [
    "# Exercise 2\n"
   ]
  },
  {
   "cell_type": "code",
   "execution_count": null,
   "metadata": {},
   "outputs": [],
   "source": [
    "# Exercise 3\n"
   ]
  },
  {
   "cell_type": "code",
   "execution_count": null,
   "metadata": {},
   "outputs": [],
   "source": [
    "# Exercise 4\n"
   ]
  },
  {
   "cell_type": "code",
   "execution_count": null,
   "metadata": {},
   "outputs": [],
   "source": [
    "# Exercise 5\n",
    "%matplotlib inline\n",
    "df.groupby('payment_method')[\"invoice_amount\"].sum().nlargest().plot(kind=\"bar\");"
   ]
  },
  {
   "cell_type": "code",
   "execution_count": null,
   "metadata": {},
   "outputs": [],
   "source": [
    "# Extra challenge\n",
    "import pandas as pd\n",
    "df = pd.read_excel(\"C:/Users/John/sample_data.xlsx\")  # change this to a file on your computer\n",
    "df.head()"
   ]
  },
  {
   "cell_type": "markdown",
   "metadata": {},
   "source": [
    "### Pandas: Scraping Wikipedia\n",
    "\n",
    "```python\n",
    "# Example\n",
    "import pandas as pd\n",
    "url = \"https://en.wikipedia.org/wiki/List_of_S%26P_500_companies\"\n",
    "tables = pd.read_html(url)\n",
    "snp500 = tables[0]\n",
    "snp500.head(10)\n",
    "```\n",
    "\n",
    "Exercises\n",
    "1. Import the `pandas` package\n",
    "2. Assign `url = \"https://en.wikipedia.org/wiki/EURO_STOXX_50\"`\n",
    "3. Use Pandas' <i>read_html</i> function to get the data: `tables = pd.read_html(url)`\n",
    "4. Your variable `tables` is a list of `dataframes`. There are actually 5 tables on the website. Find the desired table by using indexing (like `tables[1]`). Assign the table to a new variable `eurostoxx50`.\n",
    "5. Inspect the result with `eurostoxx50.head()`\n",
    "\n",
    "Documentation: [pandas](https://pandas.pydata.org/docs/reference/api/pandas.read_html.html?highlight=read_html)"
   ]
  },
  {
   "cell_type": "code",
   "execution_count": null,
   "metadata": {},
   "outputs": [],
   "source": [
    "# Exercise 1\n"
   ]
  },
  {
   "cell_type": "code",
   "execution_count": null,
   "metadata": {},
   "outputs": [],
   "source": [
    "# Exercise 2\n"
   ]
  },
  {
   "cell_type": "code",
   "execution_count": null,
   "metadata": {},
   "outputs": [],
   "source": [
    "# Exercise 3\n"
   ]
  },
  {
   "cell_type": "code",
   "execution_count": null,
   "metadata": {
    "scrolled": true
   },
   "outputs": [],
   "source": [
    "# Exercise 4\n"
   ]
  },
  {
   "cell_type": "code",
   "execution_count": null,
   "metadata": {},
   "outputs": [],
   "source": [
    "# Exercise 5\n"
   ]
  }
 ],
 "metadata": {
  "kernelspec": {
   "display_name": "Python 3",
   "language": "python",
   "name": "python3"
  },
  "language_info": {
   "codemirror_mode": {
    "name": "ipython",
    "version": 3
   },
   "file_extension": ".py",
   "mimetype": "text/x-python",
   "name": "python",
   "nbconvert_exporter": "python",
   "pygments_lexer": "ipython3",
   "version": "3.7.8"
  }
 },
 "nbformat": 4,
 "nbformat_minor": 4
}
